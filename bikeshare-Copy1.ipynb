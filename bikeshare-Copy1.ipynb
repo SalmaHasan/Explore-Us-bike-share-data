{
 "cells": [
  {
   "cell_type": "code",
   "execution_count": 1,
   "metadata": {},
   "outputs": [],
   "source": [
    "import time\n",
    "import pandas as pd\n",
    "import numpy as np"
   ]
  },
  {
   "cell_type": "code",
   "execution_count": 2,
   "metadata": {},
   "outputs": [],
   "source": [
    "CITY_DATA = { 'chicago': 'chicago.csv',\n",
    "              'new york city': 'new_york_city.csv',\n",
    "              'washington': 'washington.csv' } #dictionary assign unique keys to value "
   ]
  },
  {
   "cell_type": "code",
   "execution_count": 3,
   "metadata": {},
   "outputs": [],
   "source": [
    "def get_filters():\n",
    "    \"\"\"\n",
    "    Asks user to specify a city, month, and day to analyze.\n",
    "\n",
    "    Returns:\n",
    "        (str) city - name of the city to analyze\n",
    "        (str) month - name of the month to filter by, or \"all\" to apply no month filter\n",
    "        (str) day - name of the day of week to filter by, or \"all\" to apply no day filter\n",
    "    \"\"\"\n",
    "    print('Hello! Let\\'s explore some US bikeshare data!')"
   ]
  },
  {
   "cell_type": "code",
   "execution_count": 4,
   "metadata": {},
   "outputs": [
    {
     "name": "stdout",
     "output_type": "stream",
     "text": [
      "Which city(Chicago, New York, Washington) do you want filter by?chicago\n",
      "Try Again.\n",
      "Which city(Chicago, New York, Washington) do you want filter by?Chicago\n"
     ]
    }
   ],
   "source": [
    "    ## TO DO: get user input for city (chicago, new york city, washington). HINT: Use a while loop to handle invalid inputs\n",
    "    while True:\n",
    "     city = input('Which city(Chicago, New York, Washington) do you want filter by?')\n",
    "     if city not in ('Chicago', 'New York', 'Washington'):\n",
    "       print('Try Again.')\n",
    "       continue\n",
    "\n",
    "     else:\n",
    "      break"
   ]
  },
  {
   "cell_type": "code",
   "execution_count": 5,
   "metadata": {},
   "outputs": [
    {
     "name": "stdout",
     "output_type": "stream",
     "text": [
      "Which month(All, Jan, Feb, Mar, Apr, May, Jun) do you want?Jun\n"
     ]
    }
   ],
   "source": [
    "    ##TO DO: get user input for month (all, january, february, ... , june)\n",
    "    while True:\n",
    "     month = input('Which month(All, Jan, Feb, Mar, Apr, May, Jun) do you want?')\n",
    "     if month not in ('All', 'Jan', 'Feb', 'Mar', 'Apr', 'May', 'Jun'):   \n",
    "       print('Try Again.')\n",
    "       continue\n",
    "\n",
    "     else:\n",
    "      break"
   ]
  },
  {
   "cell_type": "code",
   "execution_count": null,
   "metadata": {},
   "outputs": [],
   "source": [
    "    ## TO DO: get user input for day of week (all, monday, tuesday, ... sunday)\n",
    "    while True:\n",
    "     day = input('Which day(Sat, Sun, Mon, Tues, Wed, Thrus, Fri, All) do you want?')\n",
    "     if day not in ('Sat', 'Sun', 'Mon', 'Tues', 'Wed', 'Thrus', 'Fri', 'All'):\n",
    "      print('Try Again')\n",
    "      continue\n",
    "\n",
    "     else:\n",
    "      break\n",
    "   "
   ]
  },
  {
   "cell_type": "code",
   "execution_count": null,
   "metadata": {},
   "outputs": [],
   "source": [
    "    print('-'*40)\n",
    "    return city, month, day"
   ]
  },
  {
   "cell_type": "code",
   "execution_count": null,
   "metadata": {},
   "outputs": [],
   "source": [
    "def load_data(city, month, day):\n",
    "    \"\"\"\n",
    "    Loads data for the specified city and filters by month and day if applicable.\n",
    "\n",
    "    Args:\n",
    "        (str) city - name of the city to analyze\n",
    "        (str) month - name of the month to filter by, or \"all\" to apply no month filter\n",
    "        (str) day - name of the day of week to filter by, or \"all\" to apply no day filter\n",
    "    Returns:\n",
    "        df - Pandas DataFrame containing city data filtered by month and day\n",
    "    \"\"\"\n",
    "\n",
    "\n",
    "    return df"
   ]
  },
  {
   "cell_type": "code",
   "execution_count": null,
   "metadata": {
    "scrolled": true
   },
   "outputs": [],
   "source": [
    "# load data file into a dataframe\n",
    "df = pd.read_csv(CITY_DATA[city])\n",
    "\n",
    "    # convert the Start Time column to datetime\n",
    "df['Start Time'] = pd.to_datetime(df['Start Time'])\n",
    "\n",
    "    # extract month and day of week from Start Time to create new columns\n",
    "df['month'] = df['Start Time'].dt.month\n",
    "df['day_of_week'] = df['Start Time'].dt.weekday_name \n",
    "\n",
    "\n",
    "    # filter by month if applicable\n",
    "if month != 'all':\n",
    "        # use the index of the months list to get the corresponding int\n",
    "   months = ['january', 'february', 'march', 'april', 'may', 'june']\n",
    "   month = months.index(month)+1 \n",
    "    \n",
    "        # filter by month to create the new dataframe\n",
    "   df = df[df['month'] == month]\n",
    "\n",
    "    # filter by day of week if applicable\n",
    "if day != 'all':\n",
    "        # filter by day of week to create the new dataframe\n",
    "   df = df[df['day_of_week'] == day.title()]\n",
    "    \n",
    "return df\n",
    "\n",
    "\n"
   ]
  },
  {
   "cell_type": "code",
   "execution_count": null,
   "metadata": {},
   "outputs": [],
   "source": [
    "def time_stats(df):\n",
    "    \"\"\"Displays statistics on the most frequent times of travel.\"\"\"\n",
    "\n",
    "    print('\\nCalculating The Most Frequent Times of Travel...\\n')\n",
    "    start_time = time.time()"
   ]
  },
  {
   "cell_type": "code",
   "execution_count": null,
   "metadata": {},
   "outputs": [],
   "source": [
    " ##TO DO: display the most common month\n",
    "# extract month from the Start Time column to create an month column\n",
    "#df['month'] = df['Start Time'].dt.month\n",
    "\n",
    "# find the most common hour (from 0 to 23)\n",
    "   popular_month = df['month'].mode()[0]\n",
    "    \n",
    "    print('Most Frequent Month:', popular_month)\n",
    "\n"
   ]
  },
  {
   "cell_type": "code",
   "execution_count": null,
   "metadata": {},
   "outputs": [],
   "source": [
    "    # #TO DO: display the most common day of week\n",
    "# extract day of week from the Start Time column to create an day of week column\n",
    "#df['day_of_week'] = df['Start Time'].dt.weekday_name\n",
    "\n",
    "# find the most common day of week (from 0 to 23)\n",
    "popular_day_of_week = df['day_of_week'].mode()[0]\n",
    "    \n",
    "print('Most Frequent Day of Week:', popular_day_of_week)\n"
   ]
  },
  {
   "cell_type": "code",
   "execution_count": null,
   "metadata": {},
   "outputs": [],
   "source": [
    "    # #TO DO: display the most common start hour\n",
    "# extract hour from the Start Time column to create an hour column\n",
    "df['hour'] = df['Start Time'].dt.hour\n",
    "\n",
    "# find the most common hour (from 0 to 23)\n",
    "popular_hour = df['hour'].mode()[0]\n",
    "    \n",
    "print('Most Frequent Start Hour:', popular_hour)"
   ]
  },
  {
   "cell_type": "code",
   "execution_count": null,
   "metadata": {},
   "outputs": [],
   "source": [
    "\n",
    "    print(\"\\nThis took %s seconds.\" % (time.time() - start_time))\n",
    "    print('-'*40)\n"
   ]
  },
  {
   "cell_type": "code",
   "execution_count": 32,
   "metadata": {},
   "outputs": [],
   "source": [
    "def trip_duration_stats(df):\n",
    "    \"\"\"Displays statistics on the total and average trip duration.\"\"\"\n",
    "\n",
    "    print('\\nCalculating Trip Duration...\\n')\n",
    "    start_time = time.time()\n",
    "\n",
    "    # TO DO: display total travel time\n",
    "\n",
    "\n",
    "    # TO DO: display mean travel time\n",
    "\n",
    "\n",
    "    print(\"\\nThis took %s seconds.\" % (time.time() - start_time))\n",
    "    print('-'*40)\n"
   ]
  },
  {
   "cell_type": "code",
   "execution_count": 33,
   "metadata": {},
   "outputs": [],
   "source": [
    "def user_stats(df):\n",
    "    \"\"\"Displays statistics on bikeshare users.\"\"\"\n",
    "\n",
    "    print('\\nCalculating User Stats...\\n')\n",
    "    start_time = time.time()\n",
    "\n",
    "    # TO DO: Display counts of user types\n",
    "\n",
    "\n",
    "    # TO DO: Display counts of gender\n",
    "\n",
    "\n",
    "    # TO DO: Display earliest, most recent, and most common year of birth\n",
    "\n",
    "\n",
    "    print(\"\\nThis took %s seconds.\" % (time.time() - start_time))\n",
    "    print('-'*40)"
   ]
  },
  {
   "cell_type": "code",
   "execution_count": null,
   "metadata": {},
   "outputs": [],
   "source": [
    "def main():\n",
    "    while True:\n",
    "        city, month, day = get_filters()\n",
    "        df = load_data(city, month, day)\n",
    "\n",
    "        time_stats(df)\n",
    "        station_stats(df)\n",
    "        trip_duration_stats(df)\n",
    "        user_stats(df)\n",
    "\n",
    "        restart = input('\\nWould you like to restart? Enter yes or no.\\n')\n",
    "        if restart.lower() != 'yes':\n",
    "            break\n",
    "\n",
    "\n",
    "if __name__ == \"__main__\":\n",
    "\tmain()\n"
   ]
  }
 ],
 "metadata": {
  "kernelspec": {
   "display_name": "Python 3",
   "language": "python",
   "name": "python3"
  },
  "language_info": {
   "codemirror_mode": {
    "name": "ipython",
    "version": 3
   },
   "file_extension": ".py",
   "mimetype": "text/x-python",
   "name": "python",
   "nbconvert_exporter": "python",
   "pygments_lexer": "ipython3",
   "version": "3.6.5"
  }
 },
 "nbformat": 4,
 "nbformat_minor": 2
}
