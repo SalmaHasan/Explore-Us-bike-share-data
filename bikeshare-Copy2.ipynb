{
 "cells": [
  {
   "cell_type": "code",
   "execution_count": 1,
   "metadata": {},
   "outputs": [],
   "source": [
    "import time\n",
    "import pandas as pd\n",
    "import numpy as np"
   ]
  },
  {
   "cell_type": "code",
   "execution_count": 20,
   "metadata": {},
   "outputs": [],
   "source": [
    "CITY_DATA = { 'chicago': 'chicago.csv',\n",
    "              'new york city': 'new_york_city.csv',\n",
    "              'washington': 'washington.csv' } #dictionary assign unique keys to value "
   ]
  },
  {
   "cell_type": "code",
   "execution_count": 21,
   "metadata": {},
   "outputs": [
    {
     "data": {
      "text/plain": [
       "'new_york_city.csv'"
      ]
     },
     "execution_count": 21,
     "metadata": {},
     "output_type": "execute_result"
    }
   ],
   "source": [
    "CITY_DATA['new york city']"
   ]
  },
  {
   "cell_type": "code",
   "execution_count": 13,
   "metadata": {},
   "outputs": [],
   "source": [
    "def get_filters():\n",
    "    \"\"\"\n",
    "    Asks user to specify a city, month, and day to analyze.\n",
    "\n",
    "    Returns:\n",
    "        (str) city - name of the city to analyze\n",
    "        (str) month - name of the month to filter by, or \"all\" to apply no month filter\n",
    "        (str) day - name of the day of week to filter by, or \"all\" to apply no day filter\n",
    "    \"\"\"\n",
    "    print('Hello! Let\\'s explore some US bikeshare data!')\n",
    "     \n",
    "    ## TO DO: get user input for city (chicago, new york city, washington). HINT: Use a while loop to handle invalid inputs\n",
    "    while True:\n",
    "        city = input('Which city(Chicago, New York, Washington) do you want filter by?')\n",
    "        if city not in ('chicago', 'new york city', 'washington'):\n",
    "            print('Try Again.')\n",
    "            continue\n",
    "        else:\n",
    "            break\n",
    "      \n",
    "    ##TO DO: get user input for month (all, january, february, ... , june)\n",
    "    while True:\n",
    "        month = input('Which month(All, Jan, Feb, Mar, Apr, May, Jun) do you want?')\n",
    "        if month not in ('All', 'Jan', 'Feb', 'Mar', 'Apr', 'May', 'Jun'):   \n",
    "            print('Try Again.')\n",
    "            continue\n",
    "        else:\n",
    "            break\n",
    "            \n",
    "    ## TO DO: get user input for day of week (all, monday, tuesday, ... sunday)\n",
    "    while True:\n",
    "        day = input('Which day(Sat, Sun, Mon, Tues, Wed, Thrus, Fri, All) do you want?')\n",
    "        if day not in ('Sat', 'Sun', 'Mon', 'Tues', 'Wed', 'Thrus', 'Fri', 'All'):\n",
    "            print('Try Again')\n",
    "            continue\n",
    "        else:\n",
    "            break\n",
    "    \n",
    "    print('-'*40)\n",
    "    return city, month, day"
   ]
  },
  {
   "cell_type": "code",
   "execution_count": 14,
   "metadata": {},
   "outputs": [],
   "source": [
    "def load_data(city, month, day):\n",
    "    \"\"\"\n",
    "    Loads data for the specified city and filters by month and day if applicable.\n",
    "\n",
    "    Args:\n",
    "        (str) city - name of the city to analyze\n",
    "        (str) month - name of the month to filter by, or \"all\" to apply no month filter\n",
    "        (str) day - name of the day of week to filter by, or \"all\" to apply no day filter\n",
    "    Returns:\n",
    "        df - Pandas DataFrame containing city data filtered by month and day\n",
    "    \"\"\"\n",
    "    # load data file into a dataframe\n",
    "    df = pd.read_csv(CITY_DATA[city])\n",
    "\n",
    "    # convert the Start Time column to datetime\n",
    "    df['Start Time'] = pd.to_datetime(df['Start Time'])\n",
    "\n",
    "    # extract month and day of week from Start Time to create new columns\n",
    "    df['month'] = df['Start Time'].dt.month\n",
    "    df['day_of_week'] = df['Start Time'].dt.weekday_name \n",
    "\n",
    "\n",
    "    # filter by month if applicable\n",
    "    if month != 'all':\n",
    "        # use the index of the months list to get the corresponding int\n",
    "        months = ['january', 'february', 'march', 'april', 'may', 'june']\n",
    "        month = months.index(month)+1 \n",
    "    \n",
    "        # filter by month to create the new dataframe\n",
    "        df = df[df['month'] == month]\n",
    "\n",
    "    # filter by day of week if applicable\n",
    "    if day != 'all':\n",
    "        # filter by day of week to create the new dataframe\n",
    "        df = df[df['day_of_week'] == day.title()]\n",
    "    \n",
    "    return df"
   ]
  },
  {
   "cell_type": "code",
   "execution_count": 15,
   "metadata": {},
   "outputs": [],
   "source": [
    "def time_stats(df):\n",
    "    \"\"\"Displays statistics on the most frequent times of travel.\"\"\"\n",
    "\n",
    "    print('\\nCalculating The Most Frequent Times of Travel...\\n')\n",
    "    start_time = time.time()\n",
    "    \n",
    "    ##TO DO: display the most common month\n",
    "    # extract month from the Start Time column to create an month column\n",
    "    #df['month'] = df['Start Time'].dt.month\n",
    "\n",
    "    # find the most common month (from 0 to 23)\n",
    "    popular_month = df['month'].mode()[0]\n",
    "    \n",
    "    print('Most Frequent Month:', popular_month)\n",
    "\n",
    "    # #TO DO: display the most common day of week\n",
    "    # extract day of week from the Start Time column to create an day of week column\n",
    "    #df['day_of_week'] = df['Start Time'].dt.weekday_name\n",
    "\n",
    "    # find the most common day of week (from 0 to 23)\n",
    "    popular_day_of_week = df['day of week'].mode()[0]\n",
    "    \n",
    "    print('Most Frequent Day of Week:', popular_day_of_week)\n",
    "\n",
    "    # #TO DO: display the most common start hour\n",
    "    # extract hour from the Start Time column to create an hour column\n",
    "    df['hour'] = df['Start Time'].dt.hour\n",
    "\n",
    "    # find the most common hour (from 0 to 23)\n",
    "    popular_hour = df['hour'].mode()[0]\n",
    "    \n",
    "    print('Most Frequent Start Hour:', popular_hour)\n",
    "\n",
    "    print(\"\\nThis took %s seconds.\" % (time.time() - start_time))\n",
    "    print('-'*40)"
   ]
  },
  {
   "cell_type": "code",
   "execution_count": 6,
   "metadata": {},
   "outputs": [],
   "source": [
    "def station_stats(df):\n",
    "    \"\"\"Displays statistics on the most popular stations and trip.\"\"\"\n",
    "\n",
    "    print('\\nCalculating The Most Popular Stations and Trip...\\n')\n",
    "    start_time = time.time()\n",
    "\n",
    "    # TO DO: display most commonly used start station\n",
    "\n",
    "    popular_start_station = df['start station'].mode()[0]\n",
    "    \n",
    "    print('Most Frequent Start Station:', popular_start_station)\n",
    "\n",
    "    # TO DO: display most commonly used end station\n",
    "\n",
    "    popular_end_station = df['end station'].mode()[0]\n",
    "    \n",
    "    print('Most Frequent End Station:', popular_end_station)\n",
    "\n",
    "    # TO DO: display most frequent combination of start station and end station trip\n",
    "    df['combination'] = df['start station'] + \" \" + df['end station']\n",
    "    combination =  df['combination'].mode()[0]\n",
    "    print('The most frequent combination of start station and end station trip is: ', combination)\n",
    "\n",
    "\n",
    "    print(\"\\nThis took %s seconds.\" % (time.time() - start_time))\n",
    "    print('-'*40)\n"
   ]
  },
  {
   "cell_type": "code",
   "execution_count": 16,
   "metadata": {},
   "outputs": [],
   "source": [
    "def trip_duration_stats(df):\n",
    "    \"\"\"Displays statistics on the total and average trip duration.\"\"\"\n",
    "\n",
    "    print('\\nCalculating Trip Duration...\\n')\n",
    "    start_time = time.time()\n",
    "\n",
    "    # TO DO: display total travel time\n",
    "    total = df['Trip Duration'].sum()\n",
    "    print('The total travel time is:', total)\n",
    "    # TO DO: display mean travel time\n",
    "    average = df['Trip Duration'].mean()\n",
    "    print('The mean travel time is:', average)\n",
    "\n",
    "    print(\"\\nThis took %s seconds.\" % (time.time() - start_time))\n",
    "    print('-'*40)\n"
   ]
  },
  {
   "cell_type": "code",
   "execution_count": 17,
   "metadata": {},
   "outputs": [],
   "source": [
    "def user_stats(df):\n",
    "    \"\"\"Displays statistics on bikeshare users.\"\"\"\n",
    "\n",
    "    print('\\nCalculating User Stats...\\n')\n",
    "    start_time = time.time()\n",
    "\n",
    "    # TO DO: Display counts of user types\n",
    "    user_types = df['User Type'].value_counts()\n",
    "\n",
    "    print(user_types)\n",
    "\n",
    "    # TO DO: Display counts of gender\n",
    "    gender = df['Gender'].value_counts()\n",
    "\n",
    "    print(gender)\n",
    "\n",
    "    # TO DO: Display earliest, most recent, and most common year of birth\n",
    "    earliest = df['Birth Year'].min()\n",
    "    most_recent = df['Birth Year'].max()\n",
    "    most_common = df['Birth Year'].mode()[0]\n",
    "    print('Earliest birth from the given data is: ', earliest)\n",
    "    print('Most recent birth from the given data is: ', most_recent)\n",
    "    print('Most common birth from the given data is: ', most_common)\n",
    "\n",
    "\n",
    "    print(\"\\nThis took %s seconds.\" % (time.time() - start_time))\n",
    "    print('-'*40)"
   ]
  },
  {
   "cell_type": "code",
   "execution_count": 19,
   "metadata": {},
   "outputs": [
    {
     "name": "stdout",
     "output_type": "stream",
     "text": [
      "Hello! Let's explore some US bikeshare data!\n",
      "Which city(Chicago, New York, Washington) do you want filter by?new york city\n",
      "Which month(All, Jan, Feb, Mar, Apr, May, Jun) do you want?All\n",
      "Which day(Sat, Sun, Mon, Tues, Wed, Thrus, Fri, All) do you want?Sat\n",
      "----------------------------------------\n"
     ]
    },
    {
     "ename": "KeyError",
     "evalue": "'new york city'",
     "output_type": "error",
     "traceback": [
      "\u001b[1;31m---------------------------------------------------------------------------\u001b[0m",
      "\u001b[1;31mKeyError\u001b[0m                                  Traceback (most recent call last)",
      "\u001b[1;32m<ipython-input-19-f96936c23cba>\u001b[0m in \u001b[0;36m<module>\u001b[1;34m()\u001b[0m\n\u001b[0;32m     15\u001b[0m \u001b[1;33m\u001b[0m\u001b[0m\n\u001b[0;32m     16\u001b[0m \u001b[1;32mif\u001b[0m \u001b[0m__name__\u001b[0m \u001b[1;33m==\u001b[0m \u001b[1;34m\"__main__\"\u001b[0m\u001b[1;33m:\u001b[0m\u001b[1;33m\u001b[0m\u001b[0m\n\u001b[1;32m---> 17\u001b[1;33m         \u001b[0mmain\u001b[0m\u001b[1;33m(\u001b[0m\u001b[1;33m)\u001b[0m\u001b[1;33m\u001b[0m\u001b[0m\n\u001b[0m",
      "\u001b[1;32m<ipython-input-19-f96936c23cba>\u001b[0m in \u001b[0;36mmain\u001b[1;34m()\u001b[0m\n\u001b[0;32m      2\u001b[0m     \u001b[1;32mwhile\u001b[0m \u001b[1;32mTrue\u001b[0m\u001b[1;33m:\u001b[0m\u001b[1;33m\u001b[0m\u001b[0m\n\u001b[0;32m      3\u001b[0m         \u001b[0mcity\u001b[0m\u001b[1;33m,\u001b[0m \u001b[0mmonth\u001b[0m\u001b[1;33m,\u001b[0m \u001b[0mday\u001b[0m \u001b[1;33m=\u001b[0m \u001b[0mget_filters\u001b[0m\u001b[1;33m(\u001b[0m\u001b[1;33m)\u001b[0m\u001b[1;33m\u001b[0m\u001b[0m\n\u001b[1;32m----> 4\u001b[1;33m         \u001b[0mdf\u001b[0m \u001b[1;33m=\u001b[0m \u001b[0mload_data\u001b[0m\u001b[1;33m(\u001b[0m\u001b[0mcity\u001b[0m\u001b[1;33m,\u001b[0m \u001b[0mmonth\u001b[0m\u001b[1;33m,\u001b[0m \u001b[0mday\u001b[0m\u001b[1;33m)\u001b[0m\u001b[1;33m\u001b[0m\u001b[0m\n\u001b[0m\u001b[0;32m      5\u001b[0m \u001b[1;33m\u001b[0m\u001b[0m\n\u001b[0;32m      6\u001b[0m         \u001b[0mtime_stats\u001b[0m\u001b[1;33m(\u001b[0m\u001b[0mdf\u001b[0m\u001b[1;33m)\u001b[0m\u001b[1;33m\u001b[0m\u001b[0m\n",
      "\u001b[1;32m<ipython-input-14-f718e43048e1>\u001b[0m in \u001b[0;36mload_data\u001b[1;34m(city, month, day)\u001b[0m\n\u001b[0;32m     11\u001b[0m     \"\"\"\n\u001b[0;32m     12\u001b[0m     \u001b[1;31m# load data file into a dataframe\u001b[0m\u001b[1;33m\u001b[0m\u001b[1;33m\u001b[0m\u001b[0m\n\u001b[1;32m---> 13\u001b[1;33m     \u001b[0mdf\u001b[0m \u001b[1;33m=\u001b[0m \u001b[0mpd\u001b[0m\u001b[1;33m.\u001b[0m\u001b[0mread_csv\u001b[0m\u001b[1;33m(\u001b[0m\u001b[0mCITY_DATA\u001b[0m\u001b[1;33m[\u001b[0m\u001b[0mcity\u001b[0m\u001b[1;33m]\u001b[0m\u001b[1;33m)\u001b[0m\u001b[1;33m\u001b[0m\u001b[0m\n\u001b[0m\u001b[0;32m     14\u001b[0m \u001b[1;33m\u001b[0m\u001b[0m\n\u001b[0;32m     15\u001b[0m     \u001b[1;31m# convert the Start Time column to datetime\u001b[0m\u001b[1;33m\u001b[0m\u001b[1;33m\u001b[0m\u001b[0m\n",
      "\u001b[1;31mKeyError\u001b[0m: 'new york city'"
     ]
    }
   ],
   "source": [
    "def main():\n",
    "    while True:\n",
    "        city, month, day = get_filters()\n",
    "        df = load_data(city, month, day)\n",
    "\n",
    "        time_stats(df)\n",
    "        station_stats(df)\n",
    "        trip_duration_stats(df)\n",
    "        user_stats(df)\n",
    "\n",
    "        restart = input('\\nWould you like to restart? Enter yes or no.\\n')\n",
    "        if restart.lower() != 'yes':\n",
    "            break\n",
    "\n",
    "\n",
    "if __name__ == \"__main__\":\n",
    "\tmain()\n"
   ]
  },
  {
   "cell_type": "code",
   "execution_count": null,
   "metadata": {},
   "outputs": [],
   "source": []
  },
  {
   "cell_type": "code",
   "execution_count": null,
   "metadata": {},
   "outputs": [],
   "source": []
  }
 ],
 "metadata": {
  "kernelspec": {
   "display_name": "Python 3",
   "language": "python",
   "name": "python3"
  },
  "language_info": {
   "codemirror_mode": {
    "name": "ipython",
    "version": 3
   },
   "file_extension": ".py",
   "mimetype": "text/x-python",
   "name": "python",
   "nbconvert_exporter": "python",
   "pygments_lexer": "ipython3",
   "version": "3.6.5"
  }
 },
 "nbformat": 4,
 "nbformat_minor": 2
}
